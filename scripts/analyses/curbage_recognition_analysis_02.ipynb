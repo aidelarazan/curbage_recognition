{
 "cells": [
  {
   "cell_type": "markdown",
   "metadata": {},
   "source": [
    "# Curbage Recognition Experiment Statistical Analyses\n",
    "### Angelique I. Delarazan\n",
    "#### 01/31/2022\n",
    "Analyzes the Curbage Recognition Experiment:\n",
    "1. Performs two-way ANOVAs on target recognition and lure (2 x 2 ANOVA: Domain Type [Narrarive v. Perceptual] x Age [Older v. Younger])\n",
    "2. Calculates correlations between neuropsychological tests and target recognition & lure performance\n",
    "3. Split on MoCA: Incorporate a test of cognitive abilities in Analysis #1 above\n",
    "\n",
    "Note: Figures generated using R Notebook (see curbage_recognition_figures.Rmd)"
   ]
  },
  {
   "cell_type": "markdown",
   "metadata": {},
   "source": [
    "## Set Up"
   ]
  },
  {
   "cell_type": "code",
   "execution_count": 1,
   "metadata": {},
   "outputs": [],
   "source": [
    "import os\n",
    "import csv\n",
    "from itertools import islice\n",
    "import pandas as pd\n",
    "import scipy.stats\n",
    "from scipy.stats import norm\n",
    "import math\n",
    "import seaborn as sns\n",
    "import matplotlib.pyplot as plt\n",
    "from scipy import stats\n",
    "import statsmodels.api as sm\n",
    "from statsmodels.formula.api import ols\n",
    "import statsmodels\n",
    "import numpy as np"
   ]
  },
  {
   "cell_type": "code",
   "execution_count": 2,
   "metadata": {},
   "outputs": [],
   "source": [
    "base_dir = '/Volumes/GAMMA/curbage_behavioral/experiment1/'\n",
    "data_dir = os.path.join(base_dir, f'data/recognition/')\n",
    "output_dir = os.path.join(base_dir, f'analyses/recognition/')"
   ]
  },
  {
   "cell_type": "code",
   "execution_count": 27,
   "metadata": {},
   "outputs": [
    {
     "data": {
      "text/html": [
       "<div>\n",
       "<style scoped>\n",
       "    .dataframe tbody tr th:only-of-type {\n",
       "        vertical-align: middle;\n",
       "    }\n",
       "\n",
       "    .dataframe tbody tr th {\n",
       "        vertical-align: top;\n",
       "    }\n",
       "\n",
       "    .dataframe thead th {\n",
       "        text-align: right;\n",
       "    }\n",
       "</style>\n",
       "<table border=\"1\" class=\"dataframe\">\n",
       "  <thead>\n",
       "    <tr style=\"text-align: right;\">\n",
       "      <th></th>\n",
       "      <th>subject</th>\n",
       "      <th>target_hit</th>\n",
       "      <th>lure_cr</th>\n",
       "      <th>foil_cr</th>\n",
       "      <th>target_miss</th>\n",
       "      <th>lure_fa</th>\n",
       "      <th>foil_fa</th>\n",
       "      <th>target_hit_rate</th>\n",
       "      <th>lure_cr_rate</th>\n",
       "      <th>foil_cr_rate</th>\n",
       "      <th>...</th>\n",
       "      <th>MoCA_delayed_recall</th>\n",
       "      <th>MoCA_orientation</th>\n",
       "      <th>MoCA_total</th>\n",
       "      <th>MINT_uncued</th>\n",
       "      <th>MINT_semantic</th>\n",
       "      <th>MINT_total</th>\n",
       "      <th>Craft21_delayed_verbatim</th>\n",
       "      <th>Craft21_delayed_paraphrase</th>\n",
       "      <th>Craft21_delayed_total</th>\n",
       "      <th>group_type</th>\n",
       "    </tr>\n",
       "  </thead>\n",
       "  <tbody>\n",
       "    <tr>\n",
       "      <th>0</th>\n",
       "      <td>201</td>\n",
       "      <td>27</td>\n",
       "      <td>26</td>\n",
       "      <td>30</td>\n",
       "      <td>3</td>\n",
       "      <td>4</td>\n",
       "      <td>0</td>\n",
       "      <td>0.900000</td>\n",
       "      <td>0.866667</td>\n",
       "      <td>1.000000</td>\n",
       "      <td>...</td>\n",
       "      <td>5.0</td>\n",
       "      <td>6.0</td>\n",
       "      <td>29.0</td>\n",
       "      <td>29.0</td>\n",
       "      <td>0.0</td>\n",
       "      <td>29.0</td>\n",
       "      <td>19.0</td>\n",
       "      <td>3.0</td>\n",
       "      <td>22.0</td>\n",
       "      <td>older_narrative</td>\n",
       "    </tr>\n",
       "    <tr>\n",
       "      <th>1</th>\n",
       "      <td>201</td>\n",
       "      <td>28</td>\n",
       "      <td>14</td>\n",
       "      <td>30</td>\n",
       "      <td>2</td>\n",
       "      <td>16</td>\n",
       "      <td>0</td>\n",
       "      <td>0.933333</td>\n",
       "      <td>0.466667</td>\n",
       "      <td>1.000000</td>\n",
       "      <td>...</td>\n",
       "      <td>5.0</td>\n",
       "      <td>6.0</td>\n",
       "      <td>29.0</td>\n",
       "      <td>29.0</td>\n",
       "      <td>0.0</td>\n",
       "      <td>29.0</td>\n",
       "      <td>19.0</td>\n",
       "      <td>3.0</td>\n",
       "      <td>22.0</td>\n",
       "      <td>older_perceptual</td>\n",
       "    </tr>\n",
       "    <tr>\n",
       "      <th>2</th>\n",
       "      <td>202</td>\n",
       "      <td>29</td>\n",
       "      <td>20</td>\n",
       "      <td>30</td>\n",
       "      <td>1</td>\n",
       "      <td>10</td>\n",
       "      <td>0</td>\n",
       "      <td>0.966667</td>\n",
       "      <td>0.666667</td>\n",
       "      <td>1.000000</td>\n",
       "      <td>...</td>\n",
       "      <td>3.0</td>\n",
       "      <td>6.0</td>\n",
       "      <td>24.0</td>\n",
       "      <td>26.0</td>\n",
       "      <td>0.0</td>\n",
       "      <td>26.0</td>\n",
       "      <td>20.0</td>\n",
       "      <td>1.0</td>\n",
       "      <td>21.0</td>\n",
       "      <td>older_narrative</td>\n",
       "    </tr>\n",
       "    <tr>\n",
       "      <th>3</th>\n",
       "      <td>202</td>\n",
       "      <td>26</td>\n",
       "      <td>20</td>\n",
       "      <td>30</td>\n",
       "      <td>4</td>\n",
       "      <td>10</td>\n",
       "      <td>0</td>\n",
       "      <td>0.866667</td>\n",
       "      <td>0.666667</td>\n",
       "      <td>1.000000</td>\n",
       "      <td>...</td>\n",
       "      <td>3.0</td>\n",
       "      <td>6.0</td>\n",
       "      <td>24.0</td>\n",
       "      <td>26.0</td>\n",
       "      <td>0.0</td>\n",
       "      <td>26.0</td>\n",
       "      <td>20.0</td>\n",
       "      <td>1.0</td>\n",
       "      <td>21.0</td>\n",
       "      <td>older_perceptual</td>\n",
       "    </tr>\n",
       "    <tr>\n",
       "      <th>4</th>\n",
       "      <td>203</td>\n",
       "      <td>24</td>\n",
       "      <td>23</td>\n",
       "      <td>29</td>\n",
       "      <td>6</td>\n",
       "      <td>7</td>\n",
       "      <td>1</td>\n",
       "      <td>0.800000</td>\n",
       "      <td>0.766667</td>\n",
       "      <td>0.966667</td>\n",
       "      <td>...</td>\n",
       "      <td>5.0</td>\n",
       "      <td>6.0</td>\n",
       "      <td>30.0</td>\n",
       "      <td>30.0</td>\n",
       "      <td>0.0</td>\n",
       "      <td>30.0</td>\n",
       "      <td>10.0</td>\n",
       "      <td>3.0</td>\n",
       "      <td>13.0</td>\n",
       "      <td>older_narrative</td>\n",
       "    </tr>\n",
       "    <tr>\n",
       "      <th>...</th>\n",
       "      <td>...</td>\n",
       "      <td>...</td>\n",
       "      <td>...</td>\n",
       "      <td>...</td>\n",
       "      <td>...</td>\n",
       "      <td>...</td>\n",
       "      <td>...</td>\n",
       "      <td>...</td>\n",
       "      <td>...</td>\n",
       "      <td>...</td>\n",
       "      <td>...</td>\n",
       "      <td>...</td>\n",
       "      <td>...</td>\n",
       "      <td>...</td>\n",
       "      <td>...</td>\n",
       "      <td>...</td>\n",
       "      <td>...</td>\n",
       "      <td>...</td>\n",
       "      <td>...</td>\n",
       "      <td>...</td>\n",
       "      <td>...</td>\n",
       "    </tr>\n",
       "    <tr>\n",
       "      <th>79</th>\n",
       "      <td>318</td>\n",
       "      <td>28</td>\n",
       "      <td>24</td>\n",
       "      <td>30</td>\n",
       "      <td>2</td>\n",
       "      <td>6</td>\n",
       "      <td>0</td>\n",
       "      <td>0.933333</td>\n",
       "      <td>0.800000</td>\n",
       "      <td>1.000000</td>\n",
       "      <td>...</td>\n",
       "      <td>NaN</td>\n",
       "      <td>NaN</td>\n",
       "      <td>NaN</td>\n",
       "      <td>NaN</td>\n",
       "      <td>NaN</td>\n",
       "      <td>NaN</td>\n",
       "      <td>NaN</td>\n",
       "      <td>NaN</td>\n",
       "      <td>NaN</td>\n",
       "      <td>younger_perceptual</td>\n",
       "    </tr>\n",
       "    <tr>\n",
       "      <th>80</th>\n",
       "      <td>319</td>\n",
       "      <td>30</td>\n",
       "      <td>28</td>\n",
       "      <td>30</td>\n",
       "      <td>0</td>\n",
       "      <td>2</td>\n",
       "      <td>0</td>\n",
       "      <td>0.983333</td>\n",
       "      <td>0.933333</td>\n",
       "      <td>1.000000</td>\n",
       "      <td>...</td>\n",
       "      <td>NaN</td>\n",
       "      <td>NaN</td>\n",
       "      <td>NaN</td>\n",
       "      <td>NaN</td>\n",
       "      <td>NaN</td>\n",
       "      <td>NaN</td>\n",
       "      <td>NaN</td>\n",
       "      <td>NaN</td>\n",
       "      <td>NaN</td>\n",
       "      <td>younger_perceptual</td>\n",
       "    </tr>\n",
       "    <tr>\n",
       "      <th>81</th>\n",
       "      <td>320</td>\n",
       "      <td>28</td>\n",
       "      <td>28</td>\n",
       "      <td>30</td>\n",
       "      <td>2</td>\n",
       "      <td>2</td>\n",
       "      <td>0</td>\n",
       "      <td>0.933333</td>\n",
       "      <td>0.933333</td>\n",
       "      <td>1.000000</td>\n",
       "      <td>...</td>\n",
       "      <td>NaN</td>\n",
       "      <td>NaN</td>\n",
       "      <td>NaN</td>\n",
       "      <td>NaN</td>\n",
       "      <td>NaN</td>\n",
       "      <td>NaN</td>\n",
       "      <td>NaN</td>\n",
       "      <td>NaN</td>\n",
       "      <td>NaN</td>\n",
       "      <td>younger_perceptual</td>\n",
       "    </tr>\n",
       "    <tr>\n",
       "      <th>82</th>\n",
       "      <td>321</td>\n",
       "      <td>29</td>\n",
       "      <td>20</td>\n",
       "      <td>30</td>\n",
       "      <td>1</td>\n",
       "      <td>10</td>\n",
       "      <td>0</td>\n",
       "      <td>0.966667</td>\n",
       "      <td>0.666667</td>\n",
       "      <td>1.000000</td>\n",
       "      <td>...</td>\n",
       "      <td>NaN</td>\n",
       "      <td>NaN</td>\n",
       "      <td>NaN</td>\n",
       "      <td>NaN</td>\n",
       "      <td>NaN</td>\n",
       "      <td>NaN</td>\n",
       "      <td>NaN</td>\n",
       "      <td>NaN</td>\n",
       "      <td>NaN</td>\n",
       "      <td>younger_perceptual</td>\n",
       "    </tr>\n",
       "    <tr>\n",
       "      <th>83</th>\n",
       "      <td>321</td>\n",
       "      <td>26</td>\n",
       "      <td>28</td>\n",
       "      <td>30</td>\n",
       "      <td>4</td>\n",
       "      <td>2</td>\n",
       "      <td>0</td>\n",
       "      <td>0.866667</td>\n",
       "      <td>0.933333</td>\n",
       "      <td>1.000000</td>\n",
       "      <td>...</td>\n",
       "      <td>NaN</td>\n",
       "      <td>NaN</td>\n",
       "      <td>NaN</td>\n",
       "      <td>NaN</td>\n",
       "      <td>NaN</td>\n",
       "      <td>NaN</td>\n",
       "      <td>NaN</td>\n",
       "      <td>NaN</td>\n",
       "      <td>NaN</td>\n",
       "      <td>younger_narrative</td>\n",
       "    </tr>\n",
       "  </tbody>\n",
       "</table>\n",
       "<p>84 rows × 42 columns</p>\n",
       "</div>"
      ],
      "text/plain": [
       "    subject  target_hit  lure_cr  foil_cr  target_miss  lure_fa  foil_fa  \\\n",
       "0       201          27       26       30            3        4        0   \n",
       "1       201          28       14       30            2       16        0   \n",
       "2       202          29       20       30            1       10        0   \n",
       "3       202          26       20       30            4       10        0   \n",
       "4       203          24       23       29            6        7        1   \n",
       "..      ...         ...      ...      ...          ...      ...      ...   \n",
       "79      318          28       24       30            2        6        0   \n",
       "80      319          30       28       30            0        2        0   \n",
       "81      320          28       28       30            2        2        0   \n",
       "82      321          29       20       30            1       10        0   \n",
       "83      321          26       28       30            4        2        0   \n",
       "\n",
       "    target_hit_rate  lure_cr_rate  foil_cr_rate  ...  MoCA_delayed_recall  \\\n",
       "0          0.900000      0.866667      1.000000  ...                  5.0   \n",
       "1          0.933333      0.466667      1.000000  ...                  5.0   \n",
       "2          0.966667      0.666667      1.000000  ...                  3.0   \n",
       "3          0.866667      0.666667      1.000000  ...                  3.0   \n",
       "4          0.800000      0.766667      0.966667  ...                  5.0   \n",
       "..              ...           ...           ...  ...                  ...   \n",
       "79         0.933333      0.800000      1.000000  ...                  NaN   \n",
       "80         0.983333      0.933333      1.000000  ...                  NaN   \n",
       "81         0.933333      0.933333      1.000000  ...                  NaN   \n",
       "82         0.966667      0.666667      1.000000  ...                  NaN   \n",
       "83         0.866667      0.933333      1.000000  ...                  NaN   \n",
       "\n",
       "    MoCA_orientation  MoCA_total  MINT_uncued  MINT_semantic  MINT_total  \\\n",
       "0                6.0        29.0         29.0            0.0        29.0   \n",
       "1                6.0        29.0         29.0            0.0        29.0   \n",
       "2                6.0        24.0         26.0            0.0        26.0   \n",
       "3                6.0        24.0         26.0            0.0        26.0   \n",
       "4                6.0        30.0         30.0            0.0        30.0   \n",
       "..               ...         ...          ...            ...         ...   \n",
       "79               NaN         NaN          NaN            NaN         NaN   \n",
       "80               NaN         NaN          NaN            NaN         NaN   \n",
       "81               NaN         NaN          NaN            NaN         NaN   \n",
       "82               NaN         NaN          NaN            NaN         NaN   \n",
       "83               NaN         NaN          NaN            NaN         NaN   \n",
       "\n",
       "    Craft21_delayed_verbatim  Craft21_delayed_paraphrase  \\\n",
       "0                       19.0                         3.0   \n",
       "1                       19.0                         3.0   \n",
       "2                       20.0                         1.0   \n",
       "3                       20.0                         1.0   \n",
       "4                       10.0                         3.0   \n",
       "..                       ...                         ...   \n",
       "79                       NaN                         NaN   \n",
       "80                       NaN                         NaN   \n",
       "81                       NaN                         NaN   \n",
       "82                       NaN                         NaN   \n",
       "83                       NaN                         NaN   \n",
       "\n",
       "    Craft21_delayed_total          group_type  \n",
       "0                    22.0     older_narrative  \n",
       "1                    22.0    older_perceptual  \n",
       "2                    21.0     older_narrative  \n",
       "3                    21.0    older_perceptual  \n",
       "4                    13.0     older_narrative  \n",
       "..                    ...                 ...  \n",
       "79                    NaN  younger_perceptual  \n",
       "80                    NaN  younger_perceptual  \n",
       "81                    NaN  younger_perceptual  \n",
       "82                    NaN  younger_perceptual  \n",
       "83                    NaN   younger_narrative  \n",
       "\n",
       "[84 rows x 42 columns]"
      ]
     },
     "execution_count": 27,
     "metadata": {},
     "output_type": "execute_result"
    }
   ],
   "source": [
    "sub_all_group_all_desc_all= pd.read_csv('/Volumes/GAMMA/curbage_recognition/data/sub-all_group-all_task-recognition_desc-all_results_neuropsych.csv')\n",
    "#sub_all_group_all_desc_all"
   ]
  },
  {
   "cell_type": "markdown",
   "metadata": {},
   "source": [
    "## Perform two-way ANOVA on target recognition (d')\n",
    "Target recognition was assessed in terms of normalized d’ values (z[Target Hit Rate] – z[Foil False Alarm Rate]) derived from signal detection analysis.\n",
    "\n",
    "2 x 2 ANOVA: Domain Type (Perceptual v. Narrative) x Age (Younger v. Older Adults)"
   ]
  },
  {
   "cell_type": "code",
   "execution_count": 4,
   "metadata": {},
   "outputs": [
    {
     "data": {
      "text/html": [
       "<div>\n",
       "<style scoped>\n",
       "    .dataframe tbody tr th:only-of-type {\n",
       "        vertical-align: middle;\n",
       "    }\n",
       "\n",
       "    .dataframe tbody tr th {\n",
       "        vertical-align: top;\n",
       "    }\n",
       "\n",
       "    .dataframe thead th {\n",
       "        text-align: right;\n",
       "    }\n",
       "</style>\n",
       "<table border=\"1\" class=\"dataframe\">\n",
       "  <thead>\n",
       "    <tr style=\"text-align: right;\">\n",
       "      <th></th>\n",
       "      <th>sum_sq</th>\n",
       "      <th>df</th>\n",
       "      <th>F</th>\n",
       "      <th>PR(&gt;F)</th>\n",
       "    </tr>\n",
       "  </thead>\n",
       "  <tbody>\n",
       "    <tr>\n",
       "      <th>group</th>\n",
       "      <td>0.886143</td>\n",
       "      <td>1.0</td>\n",
       "      <td>2.992058</td>\n",
       "      <td>0.087530</td>\n",
       "    </tr>\n",
       "    <tr>\n",
       "      <th>type</th>\n",
       "      <td>6.333862</td>\n",
       "      <td>1.0</td>\n",
       "      <td>21.386264</td>\n",
       "      <td>0.000014</td>\n",
       "    </tr>\n",
       "    <tr>\n",
       "      <th>group:type</th>\n",
       "      <td>0.110127</td>\n",
       "      <td>1.0</td>\n",
       "      <td>0.371844</td>\n",
       "      <td>0.543729</td>\n",
       "    </tr>\n",
       "    <tr>\n",
       "      <th>Residual</th>\n",
       "      <td>23.693198</td>\n",
       "      <td>80.0</td>\n",
       "      <td>NaN</td>\n",
       "      <td>NaN</td>\n",
       "    </tr>\n",
       "  </tbody>\n",
       "</table>\n",
       "</div>"
      ],
      "text/plain": [
       "               sum_sq    df          F    PR(>F)\n",
       "group        0.886143   1.0   2.992058  0.087530\n",
       "type         6.333862   1.0  21.386264  0.000014\n",
       "group:type   0.110127   1.0   0.371844  0.543729\n",
       "Residual    23.693198  80.0        NaN       NaN"
      ]
     },
     "execution_count": 4,
     "metadata": {},
     "output_type": "execute_result"
    }
   ],
   "source": [
    "#perform two-way ANOVA\n",
    "model = ols('dprime ~ (group) + (type) + (group):(type)', data=sub_all_group_all_desc_all).fit()\n",
    "sm.stats.anova_lm(model, typ=2)"
   ]
  },
  {
   "cell_type": "markdown",
   "metadata": {},
   "source": [
    "### Perform Tukey's Post-hoc test"
   ]
  },
  {
   "cell_type": "code",
   "execution_count": 5,
   "metadata": {},
   "outputs": [
    {
     "name": "stdout",
     "output_type": "stream",
     "text": [
      "           Multiple Comparison of Means - Tukey HSD, FWER=0.05            \n",
      "==========================================================================\n",
      "      group1            group2       meandiff p-adj   lower  upper  reject\n",
      "--------------------------------------------------------------------------\n",
      "  older_narrative   older_perceptual   0.4768 0.0288  0.0361 0.9175   True\n",
      "  older_narrative  younger_narrative    0.133 0.8408 -0.3077 0.5737  False\n",
      "  older_narrative younger_perceptual   0.7546  0.001  0.3139 1.1953   True\n",
      " older_perceptual  younger_narrative  -0.3438 0.1797 -0.7845 0.0969  False\n",
      " older_perceptual younger_perceptual   0.2778 0.3552 -0.1629 0.7185  False\n",
      "younger_narrative younger_perceptual   0.6216 0.0022  0.1809 1.0623   True\n",
      "--------------------------------------------------------------------------\n"
     ]
    }
   ],
   "source": [
    "post_hoc = statsmodels.stats.multicomp.pairwise_tukeyhsd(sub_all_group_all_desc_all['dprime'], sub_all_group_all_desc_all['group_type'], alpha=0.05)\n",
    "print(post_hoc)"
   ]
  },
  {
   "cell_type": "markdown",
   "metadata": {},
   "source": [
    "-----"
   ]
  },
  {
   "cell_type": "markdown",
   "metadata": {},
   "source": [
    "## Perform two-way ANOVA on lures (LDI)\n",
    "\n",
    "Response bias was corrected by calculating a lure discrimination index (LDI) for each subject (p[New|Lure] – p[New|Target])\n",
    "\n",
    "2 x 2 ANOVA: Domain Type (Perceptual v. Narrative) x Age (Younger v. Older Adults)"
   ]
  },
  {
   "cell_type": "code",
   "execution_count": 6,
   "metadata": {},
   "outputs": [
    {
     "data": {
      "text/html": [
       "<div>\n",
       "<style scoped>\n",
       "    .dataframe tbody tr th:only-of-type {\n",
       "        vertical-align: middle;\n",
       "    }\n",
       "\n",
       "    .dataframe tbody tr th {\n",
       "        vertical-align: top;\n",
       "    }\n",
       "\n",
       "    .dataframe thead th {\n",
       "        text-align: right;\n",
       "    }\n",
       "</style>\n",
       "<table border=\"1\" class=\"dataframe\">\n",
       "  <thead>\n",
       "    <tr style=\"text-align: right;\">\n",
       "      <th></th>\n",
       "      <th>sum_sq</th>\n",
       "      <th>df</th>\n",
       "      <th>F</th>\n",
       "      <th>PR(&gt;F)</th>\n",
       "    </tr>\n",
       "  </thead>\n",
       "  <tbody>\n",
       "    <tr>\n",
       "      <th>group</th>\n",
       "      <td>0.187315</td>\n",
       "      <td>1.0</td>\n",
       "      <td>9.438779</td>\n",
       "      <td>0.002903</td>\n",
       "    </tr>\n",
       "    <tr>\n",
       "      <th>type</th>\n",
       "      <td>0.012712</td>\n",
       "      <td>1.0</td>\n",
       "      <td>0.640539</td>\n",
       "      <td>0.425886</td>\n",
       "    </tr>\n",
       "    <tr>\n",
       "      <th>group:type</th>\n",
       "      <td>0.086786</td>\n",
       "      <td>1.0</td>\n",
       "      <td>4.373125</td>\n",
       "      <td>0.039683</td>\n",
       "    </tr>\n",
       "    <tr>\n",
       "      <th>Residual</th>\n",
       "      <td>1.587619</td>\n",
       "      <td>80.0</td>\n",
       "      <td>NaN</td>\n",
       "      <td>NaN</td>\n",
       "    </tr>\n",
       "  </tbody>\n",
       "</table>\n",
       "</div>"
      ],
      "text/plain": [
       "              sum_sq    df         F    PR(>F)\n",
       "group       0.187315   1.0  9.438779  0.002903\n",
       "type        0.012712   1.0  0.640539  0.425886\n",
       "group:type  0.086786   1.0  4.373125  0.039683\n",
       "Residual    1.587619  80.0       NaN       NaN"
      ]
     },
     "execution_count": 6,
     "metadata": {},
     "output_type": "execute_result"
    }
   ],
   "source": [
    "model = ols('LDI ~ (group) + (type) + (group):(type)', data=sub_all_group_all_desc_all).fit()\n",
    "sm.stats.anova_lm(model, typ=2)"
   ]
  },
  {
   "cell_type": "markdown",
   "metadata": {},
   "source": [
    "### Perform Tukey's Post-hoc test"
   ]
  },
  {
   "cell_type": "code",
   "execution_count": 7,
   "metadata": {},
   "outputs": [
    {
     "name": "stdout",
     "output_type": "stream",
     "text": [
      "           Multiple Comparison of Means - Tukey HSD, FWER=0.05            \n",
      "==========================================================================\n",
      "      group1            group2       meandiff p-adj   lower  upper  reject\n",
      "--------------------------------------------------------------------------\n",
      "  older_narrative   older_perceptual  -0.0889 0.1805  -0.203 0.0252  False\n",
      "  older_narrative  younger_narrative   0.0302 0.8954 -0.0839 0.1442  False\n",
      "  older_narrative younger_perceptual   0.0698 0.3818 -0.0442 0.1839  False\n",
      " older_perceptual  younger_narrative    0.119 0.0374   0.005 0.2331   True\n",
      " older_perceptual younger_perceptual   0.1587 0.0026  0.0447 0.2728   True\n",
      "younger_narrative younger_perceptual   0.0397 0.7736 -0.0744 0.1538  False\n",
      "--------------------------------------------------------------------------\n"
     ]
    }
   ],
   "source": [
    "post_hoc = statsmodels.stats.multicomp.pairwise_tukeyhsd(sub_all_group_all_desc_all['LDI'], sub_all_group_all_desc_all['group_type'], alpha=0.05)\n",
    "print(post_hoc)"
   ]
  },
  {
   "cell_type": "markdown",
   "metadata": {},
   "source": [
    "-----------"
   ]
  },
  {
   "cell_type": "markdown",
   "metadata": {},
   "source": [
    "## Calculate mean and standard deviations of all the neuropsychological measures"
   ]
  },
  {
   "cell_type": "code",
   "execution_count": 37,
   "metadata": {},
   "outputs": [
    {
     "data": {
      "text/plain": [
       "Index(['subject', 'target_hit', 'lure_cr', 'foil_cr', 'target_miss', 'lure_fa',\n",
       "       'foil_fa', 'target_hit_rate', 'lure_cr_rate', 'foil_cr_rate',\n",
       "       'lure_fa_rate', 'foil_fa_rate', 'cr', 'cr_rate', 'fa', 'fa_rate',\n",
       "       'dprime', 'dprime_lures', 'LDI', 'beta', 'c', 'ad', 'group', 'type',\n",
       "       'Craft21_immediate_verbatim', 'Craft21_immediate_paraphase',\n",
       "       'Craft21_immediate_total', 'MoCA_visuospatial/executive', 'MoCA_naming',\n",
       "       'MoCA_attention', 'MoCA_language', 'MoCA_abstraction',\n",
       "       'MoCA_delayed_recall', 'MoCA_orientation', 'MoCA_total', 'MINT_uncued',\n",
       "       'MINT_semantic', 'MINT_total', 'Craft21_delayed_verbatim',\n",
       "       'Craft21_delayed_paraphrase', 'Craft21_delayed_total', 'group_type'],\n",
       "      dtype='object')"
      ]
     },
     "execution_count": 37,
     "metadata": {},
     "output_type": "execute_result"
    }
   ],
   "source": [
    "# Filter current dataframe and remove younger adults\n",
    "sub_all_group_older_desc_neuropsych = sub_all_group_all_desc_all[sub_all_group_all_desc_all['group'] == 'older']\n",
    "sub_all_group_older_desc_neuropsych.columns"
   ]
  },
  {
   "cell_type": "markdown",
   "metadata": {},
   "source": [
    "### MoCA"
   ]
  },
  {
   "cell_type": "code",
   "execution_count": 34,
   "metadata": {},
   "outputs": [
    {
     "name": "stdout",
     "output_type": "stream",
     "text": [
      "26.047619047619047 3.608610170623973\n"
     ]
    }
   ],
   "source": [
    "mean = np.mean(sub_all_group_older_desc_neuropsych['MoCA_total'])\n",
    "std = scipy.stats.tstd(sub_all_group_older_desc_neuropsych['MoCA_total'])\n",
    "print(mean, std)"
   ]
  },
  {
   "cell_type": "markdown",
   "metadata": {},
   "source": [
    "### Craft 21 Immediate"
   ]
  },
  {
   "cell_type": "code",
   "execution_count": 38,
   "metadata": {
    "scrolled": true
   },
   "outputs": [
    {
     "name": "stdout",
     "output_type": "stream",
     "text": [
      "20.476190476190474 6.652482006054785\n"
     ]
    }
   ],
   "source": [
    "mean = np.mean(sub_all_group_older_desc_neuropsych['Craft21_immediate_total'])\n",
    "std = scipy.stats.tstd(sub_all_group_older_desc_neuropsych['Craft21_immediate_total'])\n",
    "print(mean, std)"
   ]
  },
  {
   "cell_type": "markdown",
   "metadata": {},
   "source": [
    "### Craft 21 Delayed"
   ]
  },
  {
   "cell_type": "code",
   "execution_count": 39,
   "metadata": {
    "scrolled": true
   },
   "outputs": [
    {
     "name": "stdout",
     "output_type": "stream",
     "text": [
      "18.523809523809526 5.49606553391404\n"
     ]
    }
   ],
   "source": [
    "mean = np.mean(sub_all_group_older_desc_neuropsych['Craft21_delayed_total'])\n",
    "std = scipy.stats.tstd(sub_all_group_older_desc_neuropsych['Craft21_delayed_total'])\n",
    "print(mean, std)"
   ]
  },
  {
   "cell_type": "markdown",
   "metadata": {},
   "source": [
    "### MINT (uncued)"
   ]
  },
  {
   "cell_type": "code",
   "execution_count": 40,
   "metadata": {
    "scrolled": true
   },
   "outputs": [
    {
     "name": "stdout",
     "output_type": "stream",
     "text": [
      "29.857142857142858 1.932664388255411\n"
     ]
    }
   ],
   "source": [
    "mean = np.mean(sub_all_group_older_desc_neuropsych['MINT_uncued'])\n",
    "std = scipy.stats.tstd(sub_all_group_older_desc_neuropsych['MINT_uncued'])\n",
    "print(mean, std)"
   ]
  },
  {
   "cell_type": "markdown",
   "metadata": {},
   "source": [
    "### MINT (semantic)"
   ]
  },
  {
   "cell_type": "code",
   "execution_count": 41,
   "metadata": {
    "scrolled": true
   },
   "outputs": [
    {
     "name": "stdout",
     "output_type": "stream",
     "text": [
      "0.23809523809523808 0.53234519378184\n"
     ]
    }
   ],
   "source": [
    "mean = np.mean(sub_all_group_older_desc_neuropsych['MINT_semantic'])\n",
    "std = scipy.stats.tstd(sub_all_group_older_desc_neuropsych['MINT_semantic'])\n",
    "print(mean, std)"
   ]
  },
  {
   "cell_type": "markdown",
   "metadata": {},
   "source": [
    "### MINT (total)"
   ]
  },
  {
   "cell_type": "code",
   "execution_count": 42,
   "metadata": {
    "scrolled": true
   },
   "outputs": [
    {
     "name": "stdout",
     "output_type": "stream",
     "text": [
      "30.095238095238095 1.7364039629117973\n"
     ]
    }
   ],
   "source": [
    "mean = np.mean(sub_all_group_older_desc_neuropsych['MINT_total'])\n",
    "std = scipy.stats.tstd(sub_all_group_older_desc_neuropsych['MINT_total'])\n",
    "print(mean, std)"
   ]
  },
  {
   "cell_type": "markdown",
   "metadata": {},
   "source": [
    "## Calculate correlations of Narrative and Perceptual task with Neuropsychological Tests"
   ]
  },
  {
   "cell_type": "code",
   "execution_count": 8,
   "metadata": {},
   "outputs": [],
   "source": [
    "# Filter current dataframe and remove younger adults\n",
    "sub_all_group_older_desc_neuropsych = sub_all_group_all_desc_all[sub_all_group_all_desc_all['group'] == 'older']\n",
    "#sub_all_group_older_desc_neuropsych"
   ]
  },
  {
   "cell_type": "markdown",
   "metadata": {},
   "source": [
    "### MoCA and LDI"
   ]
  },
  {
   "cell_type": "code",
   "execution_count": 60,
   "metadata": {},
   "outputs": [
    {
     "name": "stdout",
     "output_type": "stream",
     "text": [
      "0.04273096590121617 0.8540834995960161\n"
     ]
    }
   ],
   "source": [
    "r, p  = scipy.stats.pearsonr(sub_all_group_older_desc_neuropsych.query('type==\"narrative\"')['MoCA_total'], sub_all_group_older_desc_neuropsych.query('type==\"narrative\"')['LDI'])\n",
    "print(r, p)"
   ]
  },
  {
   "cell_type": "code",
   "execution_count": 61,
   "metadata": {},
   "outputs": [
    {
     "name": "stdout",
     "output_type": "stream",
     "text": [
      "0.37392866393574337 0.0949508777060857\n"
     ]
    }
   ],
   "source": [
    "r, p = scipy.stats.pearsonr(sub_all_group_older_desc_neuropsych.query('type==\"perceptual\"')['MoCA_total'], sub_all_group_older_desc_neuropsych.query('type==\"perceptual\"')['LDI'])\n",
    "print(r, p)"
   ]
  },
  {
   "cell_type": "markdown",
   "metadata": {},
   "source": [
    "### MoCA and d'"
   ]
  },
  {
   "cell_type": "code",
   "execution_count": 62,
   "metadata": {},
   "outputs": [
    {
     "name": "stdout",
     "output_type": "stream",
     "text": [
      "-0.12846077947838547 0.5789341103842007\n"
     ]
    }
   ],
   "source": [
    "r, p  = scipy.stats.pearsonr(sub_all_group_older_desc_neuropsych.query('type==\"narrative\"')['MoCA_total'], sub_all_group_older_desc_neuropsych.query('type==\"narrative\"')['dprime'])\n",
    "print(r, p)"
   ]
  },
  {
   "cell_type": "code",
   "execution_count": 63,
   "metadata": {},
   "outputs": [
    {
     "name": "stdout",
     "output_type": "stream",
     "text": [
      "0.02655703690022254 0.9090259823983964\n"
     ]
    }
   ],
   "source": [
    "r, p = scipy.stats.pearsonr(sub_all_group_older_desc_neuropsych.query('type==\"perceptual\"')['MoCA_total'], sub_all_group_older_desc_neuropsych.query('type==\"perceptual\"')['dprime'])\n",
    "print(r, p)"
   ]
  },
  {
   "cell_type": "markdown",
   "metadata": {},
   "source": [
    "### MINT (uncued) and LDI"
   ]
  },
  {
   "cell_type": "code",
   "execution_count": 64,
   "metadata": {},
   "outputs": [
    {
     "name": "stdout",
     "output_type": "stream",
     "text": [
      "0.26633989030864147 0.24320383307651267\n"
     ]
    }
   ],
   "source": [
    "r, p  = scipy.stats.pearsonr(sub_all_group_older_desc_neuropsych.query('type==\"narrative\"')['MINT_uncued'], sub_all_group_older_desc_neuropsych.query('type==\"narrative\"')['LDI'])\n",
    "print(r, p)"
   ]
  },
  {
   "cell_type": "code",
   "execution_count": 65,
   "metadata": {},
   "outputs": [
    {
     "name": "stdout",
     "output_type": "stream",
     "text": [
      "0.21289006398948085 0.35417071856027943\n"
     ]
    }
   ],
   "source": [
    "r, p = scipy.stats.pearsonr(sub_all_group_older_desc_neuropsych.query('type==\"perceptual\"')['MINT_uncued'], sub_all_group_older_desc_neuropsych.query('type==\"perceptual\"')['LDI'])\n",
    "print(r, p)"
   ]
  },
  {
   "cell_type": "markdown",
   "metadata": {},
   "source": [
    "### MINT (uncued) and d'"
   ]
  },
  {
   "cell_type": "code",
   "execution_count": 66,
   "metadata": {},
   "outputs": [
    {
     "name": "stdout",
     "output_type": "stream",
     "text": [
      "0.16110057575042097 0.4854100009514949\n"
     ]
    }
   ],
   "source": [
    "r, p  = scipy.stats.pearsonr(sub_all_group_older_desc_neuropsych.query('type==\"narrative\"')['MINT_uncued'], sub_all_group_older_desc_neuropsych.query('type==\"narrative\"')['dprime'])\n",
    "print(r, p)"
   ]
  },
  {
   "cell_type": "code",
   "execution_count": 67,
   "metadata": {},
   "outputs": [
    {
     "name": "stdout",
     "output_type": "stream",
     "text": [
      "-0.10680179654040117 0.6449564878807096\n"
     ]
    }
   ],
   "source": [
    "r, p = scipy.stats.pearsonr(sub_all_group_older_desc_neuropsych.query('type==\"perceptual\"')['MINT_uncued'], sub_all_group_older_desc_neuropsych.query('type==\"perceptual\"')['dprime'])\n",
    "print(r, p)"
   ]
  },
  {
   "cell_type": "markdown",
   "metadata": {},
   "source": [
    "### MINT (semantic) and LDI"
   ]
  },
  {
   "cell_type": "code",
   "execution_count": 68,
   "metadata": {},
   "outputs": [
    {
     "name": "stdout",
     "output_type": "stream",
     "text": [
      "-0.2770208071925857 0.2240977822995993\n"
     ]
    }
   ],
   "source": [
    "r, p  = scipy.stats.pearsonr(sub_all_group_older_desc_neuropsych.query('type==\"narrative\"')['MINT_semantic'], sub_all_group_older_desc_neuropsych.query('type==\"narrative\"')['LDI'])\n",
    "print(r, p)"
   ]
  },
  {
   "cell_type": "code",
   "execution_count": 69,
   "metadata": {},
   "outputs": [
    {
     "name": "stdout",
     "output_type": "stream",
     "text": [
      "-0.3520698066875316 0.11753747490161148\n"
     ]
    }
   ],
   "source": [
    "r, p = scipy.stats.pearsonr(sub_all_group_older_desc_neuropsych.query('type==\"perceptual\"')['MINT_semantic'], sub_all_group_older_desc_neuropsych.query('type==\"perceptual\"')['LDI'])\n",
    "print(r, p)"
   ]
  },
  {
   "cell_type": "markdown",
   "metadata": {},
   "source": [
    "### MINT (semantic) and d'"
   ]
  },
  {
   "cell_type": "code",
   "execution_count": 70,
   "metadata": {},
   "outputs": [
    {
     "name": "stdout",
     "output_type": "stream",
     "text": [
      "-0.19616539025957694 0.39409043574760794\n"
     ]
    }
   ],
   "source": [
    "r, p  = scipy.stats.pearsonr(sub_all_group_older_desc_neuropsych.query('type==\"narrative\"')['MINT_semantic'], sub_all_group_older_desc_neuropsych.query('type==\"narrative\"')['dprime'])\n",
    "print(r, p)"
   ]
  },
  {
   "cell_type": "code",
   "execution_count": 71,
   "metadata": {},
   "outputs": [
    {
     "name": "stdout",
     "output_type": "stream",
     "text": [
      "-0.18086083841246886 0.4327110255638251\n"
     ]
    }
   ],
   "source": [
    "r, p = scipy.stats.pearsonr(sub_all_group_older_desc_neuropsych.query('type==\"perceptual\"')['MINT_semantic'], sub_all_group_older_desc_neuropsych.query('type==\"perceptual\"')['dprime'])\n",
    "print(r, p)"
   ]
  },
  {
   "cell_type": "markdown",
   "metadata": {},
   "source": [
    "### MINT (total) and LDI"
   ]
  },
  {
   "cell_type": "code",
   "execution_count": 72,
   "metadata": {},
   "outputs": [
    {
     "name": "stdout",
     "output_type": "stream",
     "text": [
      "0.21151467845589172 0.35736183499953356\n"
     ]
    }
   ],
   "source": [
    "r, p  = scipy.stats.pearsonr(sub_all_group_older_desc_neuropsych.query('type==\"narrative\"')['MINT_total'], sub_all_group_older_desc_neuropsych.query('type==\"narrative\"')['LDI'])\n",
    "print(r, p)"
   ]
  },
  {
   "cell_type": "code",
   "execution_count": 73,
   "metadata": {},
   "outputs": [
    {
     "name": "stdout",
     "output_type": "stream",
     "text": [
      "0.12901512586069566 0.5772833174813561\n"
     ]
    }
   ],
   "source": [
    "r, p = scipy.stats.pearsonr(sub_all_group_older_desc_neuropsych.query('type==\"perceptual\"')['MINT_total'], sub_all_group_older_desc_neuropsych.query('type==\"perceptual\"')['LDI'])\n",
    "print(r, p)"
   ]
  },
  {
   "cell_type": "markdown",
   "metadata": {},
   "source": [
    "### MINT (total) and d'"
   ]
  },
  {
   "cell_type": "code",
   "execution_count": 74,
   "metadata": {},
   "outputs": [
    {
     "name": "stdout",
     "output_type": "stream",
     "text": [
      "0.11916906860904693 0.6069014142836762\n"
     ]
    }
   ],
   "source": [
    "r, p  = scipy.stats.pearsonr(sub_all_group_older_desc_neuropsych.query('type==\"narrative\"')['MINT_total'], sub_all_group_older_desc_neuropsych.query('type==\"narrative\"')['dprime'])\n",
    "print(r, p)"
   ]
  },
  {
   "cell_type": "code",
   "execution_count": 75,
   "metadata": {},
   "outputs": [
    {
     "name": "stdout",
     "output_type": "stream",
     "text": [
      "-0.1743214328651821 0.44980472460920934\n"
     ]
    }
   ],
   "source": [
    "r, p = scipy.stats.pearsonr(sub_all_group_older_desc_neuropsych.query('type==\"perceptual\"')['MINT_total'], sub_all_group_older_desc_neuropsych.query('type==\"perceptual\"')['dprime'])\n",
    "print(r, p)"
   ]
  },
  {
   "cell_type": "markdown",
   "metadata": {},
   "source": [
    "### Craft21 (Immediate) and LDI"
   ]
  },
  {
   "cell_type": "code",
   "execution_count": 76,
   "metadata": {},
   "outputs": [
    {
     "name": "stdout",
     "output_type": "stream",
     "text": [
      "0.49552974696350727 0.022355932483808058\n"
     ]
    }
   ],
   "source": [
    "r, p  = scipy.stats.pearsonr(sub_all_group_older_desc_neuropsych.query('type==\"narrative\"')['Craft21_immediate_total'], sub_all_group_older_desc_neuropsych.query('type==\"narrative\"')['LDI'])\n",
    "print(r, p)"
   ]
  },
  {
   "cell_type": "code",
   "execution_count": 77,
   "metadata": {},
   "outputs": [
    {
     "name": "stdout",
     "output_type": "stream",
     "text": [
      "0.11251200508321545 0.627272071146136\n"
     ]
    }
   ],
   "source": [
    "r, p = scipy.stats.pearsonr(sub_all_group_older_desc_neuropsych.query('type==\"perceptual\"')['Craft21_immediate_total'], sub_all_group_older_desc_neuropsych.query('type==\"perceptual\"')['LDI'])\n",
    "print(r, p)"
   ]
  },
  {
   "cell_type": "markdown",
   "metadata": {},
   "source": [
    "### Craft21 (Delayed) and LDI"
   ]
  },
  {
   "cell_type": "code",
   "execution_count": 78,
   "metadata": {},
   "outputs": [
    {
     "name": "stdout",
     "output_type": "stream",
     "text": [
      "0.5464351709499262 0.010377536172562707\n"
     ]
    }
   ],
   "source": [
    "r, p  = scipy.stats.pearsonr(sub_all_group_older_desc_neuropsych.query('type==\"narrative\"')['Craft21_delayed_total'], sub_all_group_older_desc_neuropsych.query('type==\"narrative\"')['LDI'])\n",
    "print(r, p)"
   ]
  },
  {
   "cell_type": "code",
   "execution_count": 79,
   "metadata": {},
   "outputs": [
    {
     "name": "stdout",
     "output_type": "stream",
     "text": [
      "0.2925681790033601 0.19809399107188994\n"
     ]
    }
   ],
   "source": [
    "r, p = scipy.stats.pearsonr(sub_all_group_older_desc_neuropsych.query('type==\"perceptual\"')['Craft21_delayed_total'], sub_all_group_older_desc_neuropsych.query('type==\"perceptual\"')['LDI'])\n",
    "print(r, p)"
   ]
  },
  {
   "cell_type": "markdown",
   "metadata": {},
   "source": [
    "### Craft21 (Immediate) and d'"
   ]
  },
  {
   "cell_type": "code",
   "execution_count": 80,
   "metadata": {},
   "outputs": [
    {
     "name": "stdout",
     "output_type": "stream",
     "text": [
      "0.3395930303128523 0.13204344715394678\n"
     ]
    }
   ],
   "source": [
    "r, p  = scipy.stats.pearsonr(sub_all_group_older_desc_neuropsych.query('type==\"narrative\"')['Craft21_immediate_total'], sub_all_group_older_desc_neuropsych.query('type==\"narrative\"')['dprime'])\n",
    "print(r, p)"
   ]
  },
  {
   "cell_type": "code",
   "execution_count": 81,
   "metadata": {},
   "outputs": [
    {
     "name": "stdout",
     "output_type": "stream",
     "text": [
      "0.38031875252639097 0.08899673595245042\n"
     ]
    }
   ],
   "source": [
    "r, p = scipy.stats.pearsonr(sub_all_group_older_desc_neuropsych.query('type==\"perceptual\"')['Craft21_immediate_total'], sub_all_group_older_desc_neuropsych.query('type==\"perceptual\"')['dprime'])\n",
    "print(r, p)"
   ]
  },
  {
   "cell_type": "markdown",
   "metadata": {},
   "source": [
    "### Craft21 (Delayed) and d'"
   ]
  },
  {
   "cell_type": "code",
   "execution_count": 82,
   "metadata": {},
   "outputs": [
    {
     "name": "stdout",
     "output_type": "stream",
     "text": [
      "0.4615712255076184 0.03518076073368875\n"
     ]
    }
   ],
   "source": [
    "r, p  = scipy.stats.pearsonr(sub_all_group_older_desc_neuropsych.query('type==\"narrative\"')['Craft21_delayed_total'], sub_all_group_older_desc_neuropsych.query('type==\"narrative\"')['dprime'])\n",
    "print(r, p)"
   ]
  },
  {
   "cell_type": "code",
   "execution_count": 83,
   "metadata": {},
   "outputs": [
    {
     "name": "stdout",
     "output_type": "stream",
     "text": [
      "0.4583208169382502 0.03666032641129591\n"
     ]
    }
   ],
   "source": [
    "r, p = scipy.stats.pearsonr(sub_all_group_older_desc_neuropsych.query('type==\"perceptual\"')['Craft21_delayed_total'], sub_all_group_older_desc_neuropsych.query('type==\"perceptual\"')['dprime'])\n",
    "print(r, p)"
   ]
  },
  {
   "cell_type": "markdown",
   "metadata": {},
   "source": [
    "-----"
   ]
  },
  {
   "cell_type": "markdown",
   "metadata": {},
   "source": [
    "## Split on MoCA\n",
    "MoCA scores range from 0-30, and a score of 26 or higher is generally considered as “normal.” Given that our older adult sample exhibited heterogeneity in falling above or below a MoCA score of 26, we incorporated a simple contrast of cognitive ability in our analyses via split based on MoCA score. Older participants were categorized in two groups: Lower MoCA Scores (MoCA score < 26) and Higher MoCA Scores (MoCA score >= 26)."
   ]
  },
  {
   "cell_type": "code",
   "execution_count": 25,
   "metadata": {
    "scrolled": true
   },
   "outputs": [
    {
     "data": {
      "text/html": [
       "<div>\n",
       "<style scoped>\n",
       "    .dataframe tbody tr th:only-of-type {\n",
       "        vertical-align: middle;\n",
       "    }\n",
       "\n",
       "    .dataframe tbody tr th {\n",
       "        vertical-align: top;\n",
       "    }\n",
       "\n",
       "    .dataframe thead th {\n",
       "        text-align: right;\n",
       "    }\n",
       "</style>\n",
       "<table border=\"1\" class=\"dataframe\">\n",
       "  <thead>\n",
       "    <tr style=\"text-align: right;\">\n",
       "      <th></th>\n",
       "      <th>subject</th>\n",
       "      <th>target_hit</th>\n",
       "      <th>lure_cr</th>\n",
       "      <th>foil_cr</th>\n",
       "      <th>target_miss</th>\n",
       "      <th>lure_fa</th>\n",
       "      <th>foil_fa</th>\n",
       "      <th>target_hit_rate</th>\n",
       "      <th>lure_cr_rate</th>\n",
       "      <th>foil_cr_rate</th>\n",
       "      <th>...</th>\n",
       "      <th>MoCA_delayed_recall</th>\n",
       "      <th>MoCA_orientation</th>\n",
       "      <th>MoCA_total</th>\n",
       "      <th>MINT_uncued</th>\n",
       "      <th>MINT_semantic</th>\n",
       "      <th>MINT_total</th>\n",
       "      <th>Craft21_delayed_verbatim</th>\n",
       "      <th>Craft21_delayed_paraphrase</th>\n",
       "      <th>Craft21_delayed_total</th>\n",
       "      <th>group_type</th>\n",
       "    </tr>\n",
       "  </thead>\n",
       "  <tbody>\n",
       "    <tr>\n",
       "      <th>2</th>\n",
       "      <td>202</td>\n",
       "      <td>29</td>\n",
       "      <td>20</td>\n",
       "      <td>30</td>\n",
       "      <td>1</td>\n",
       "      <td>10</td>\n",
       "      <td>0</td>\n",
       "      <td>0.966667</td>\n",
       "      <td>0.666667</td>\n",
       "      <td>1.000000</td>\n",
       "      <td>...</td>\n",
       "      <td>3.0</td>\n",
       "      <td>6.0</td>\n",
       "      <td>24.0</td>\n",
       "      <td>26.0</td>\n",
       "      <td>0.0</td>\n",
       "      <td>26.0</td>\n",
       "      <td>20.0</td>\n",
       "      <td>1.0</td>\n",
       "      <td>21.0</td>\n",
       "      <td>older_narrative</td>\n",
       "    </tr>\n",
       "    <tr>\n",
       "      <th>3</th>\n",
       "      <td>202</td>\n",
       "      <td>26</td>\n",
       "      <td>20</td>\n",
       "      <td>30</td>\n",
       "      <td>4</td>\n",
       "      <td>10</td>\n",
       "      <td>0</td>\n",
       "      <td>0.866667</td>\n",
       "      <td>0.666667</td>\n",
       "      <td>1.000000</td>\n",
       "      <td>...</td>\n",
       "      <td>3.0</td>\n",
       "      <td>6.0</td>\n",
       "      <td>24.0</td>\n",
       "      <td>26.0</td>\n",
       "      <td>0.0</td>\n",
       "      <td>26.0</td>\n",
       "      <td>20.0</td>\n",
       "      <td>1.0</td>\n",
       "      <td>21.0</td>\n",
       "      <td>older_perceptual</td>\n",
       "    </tr>\n",
       "    <tr>\n",
       "      <th>12</th>\n",
       "      <td>207</td>\n",
       "      <td>26</td>\n",
       "      <td>24</td>\n",
       "      <td>30</td>\n",
       "      <td>4</td>\n",
       "      <td>6</td>\n",
       "      <td>0</td>\n",
       "      <td>0.866667</td>\n",
       "      <td>0.800000</td>\n",
       "      <td>1.000000</td>\n",
       "      <td>...</td>\n",
       "      <td>3.0</td>\n",
       "      <td>6.0</td>\n",
       "      <td>19.0</td>\n",
       "      <td>31.0</td>\n",
       "      <td>0.0</td>\n",
       "      <td>31.0</td>\n",
       "      <td>19.0</td>\n",
       "      <td>1.0</td>\n",
       "      <td>20.0</td>\n",
       "      <td>older_narrative</td>\n",
       "    </tr>\n",
       "    <tr>\n",
       "      <th>13</th>\n",
       "      <td>207</td>\n",
       "      <td>30</td>\n",
       "      <td>20</td>\n",
       "      <td>30</td>\n",
       "      <td>0</td>\n",
       "      <td>10</td>\n",
       "      <td>0</td>\n",
       "      <td>0.983333</td>\n",
       "      <td>0.666667</td>\n",
       "      <td>1.000000</td>\n",
       "      <td>...</td>\n",
       "      <td>3.0</td>\n",
       "      <td>6.0</td>\n",
       "      <td>19.0</td>\n",
       "      <td>31.0</td>\n",
       "      <td>0.0</td>\n",
       "      <td>31.0</td>\n",
       "      <td>19.0</td>\n",
       "      <td>1.0</td>\n",
       "      <td>20.0</td>\n",
       "      <td>older_perceptual</td>\n",
       "    </tr>\n",
       "    <tr>\n",
       "      <th>22</th>\n",
       "      <td>212</td>\n",
       "      <td>29</td>\n",
       "      <td>26</td>\n",
       "      <td>30</td>\n",
       "      <td>1</td>\n",
       "      <td>4</td>\n",
       "      <td>0</td>\n",
       "      <td>0.966667</td>\n",
       "      <td>0.866667</td>\n",
       "      <td>1.000000</td>\n",
       "      <td>...</td>\n",
       "      <td>1.0</td>\n",
       "      <td>6.0</td>\n",
       "      <td>18.0</td>\n",
       "      <td>30.0</td>\n",
       "      <td>0.0</td>\n",
       "      <td>30.0</td>\n",
       "      <td>17.0</td>\n",
       "      <td>1.0</td>\n",
       "      <td>18.0</td>\n",
       "      <td>older_narrative</td>\n",
       "    </tr>\n",
       "    <tr>\n",
       "      <th>23</th>\n",
       "      <td>212</td>\n",
       "      <td>30</td>\n",
       "      <td>15</td>\n",
       "      <td>30</td>\n",
       "      <td>0</td>\n",
       "      <td>15</td>\n",
       "      <td>0</td>\n",
       "      <td>0.983333</td>\n",
       "      <td>0.500000</td>\n",
       "      <td>1.000000</td>\n",
       "      <td>...</td>\n",
       "      <td>1.0</td>\n",
       "      <td>6.0</td>\n",
       "      <td>18.0</td>\n",
       "      <td>30.0</td>\n",
       "      <td>0.0</td>\n",
       "      <td>30.0</td>\n",
       "      <td>17.0</td>\n",
       "      <td>1.0</td>\n",
       "      <td>18.0</td>\n",
       "      <td>older_perceptual</td>\n",
       "    </tr>\n",
       "    <tr>\n",
       "      <th>26</th>\n",
       "      <td>214</td>\n",
       "      <td>27</td>\n",
       "      <td>17</td>\n",
       "      <td>30</td>\n",
       "      <td>3</td>\n",
       "      <td>13</td>\n",
       "      <td>0</td>\n",
       "      <td>0.900000</td>\n",
       "      <td>0.566667</td>\n",
       "      <td>1.000000</td>\n",
       "      <td>...</td>\n",
       "      <td>3.0</td>\n",
       "      <td>6.0</td>\n",
       "      <td>23.0</td>\n",
       "      <td>32.0</td>\n",
       "      <td>0.0</td>\n",
       "      <td>32.0</td>\n",
       "      <td>14.0</td>\n",
       "      <td>2.0</td>\n",
       "      <td>16.0</td>\n",
       "      <td>older_narrative</td>\n",
       "    </tr>\n",
       "    <tr>\n",
       "      <th>27</th>\n",
       "      <td>214</td>\n",
       "      <td>29</td>\n",
       "      <td>18</td>\n",
       "      <td>28</td>\n",
       "      <td>1</td>\n",
       "      <td>12</td>\n",
       "      <td>2</td>\n",
       "      <td>0.966667</td>\n",
       "      <td>0.600000</td>\n",
       "      <td>0.933333</td>\n",
       "      <td>...</td>\n",
       "      <td>3.0</td>\n",
       "      <td>6.0</td>\n",
       "      <td>23.0</td>\n",
       "      <td>32.0</td>\n",
       "      <td>0.0</td>\n",
       "      <td>32.0</td>\n",
       "      <td>14.0</td>\n",
       "      <td>2.0</td>\n",
       "      <td>16.0</td>\n",
       "      <td>older_perceptual</td>\n",
       "    </tr>\n",
       "    <tr>\n",
       "      <th>28</th>\n",
       "      <td>215</td>\n",
       "      <td>26</td>\n",
       "      <td>25</td>\n",
       "      <td>30</td>\n",
       "      <td>4</td>\n",
       "      <td>5</td>\n",
       "      <td>0</td>\n",
       "      <td>0.866667</td>\n",
       "      <td>0.833333</td>\n",
       "      <td>1.000000</td>\n",
       "      <td>...</td>\n",
       "      <td>2.0</td>\n",
       "      <td>6.0</td>\n",
       "      <td>24.0</td>\n",
       "      <td>31.0</td>\n",
       "      <td>0.0</td>\n",
       "      <td>31.0</td>\n",
       "      <td>16.0</td>\n",
       "      <td>1.0</td>\n",
       "      <td>17.0</td>\n",
       "      <td>older_narrative</td>\n",
       "    </tr>\n",
       "    <tr>\n",
       "      <th>29</th>\n",
       "      <td>215</td>\n",
       "      <td>26</td>\n",
       "      <td>20</td>\n",
       "      <td>30</td>\n",
       "      <td>4</td>\n",
       "      <td>10</td>\n",
       "      <td>0</td>\n",
       "      <td>0.866667</td>\n",
       "      <td>0.666667</td>\n",
       "      <td>1.000000</td>\n",
       "      <td>...</td>\n",
       "      <td>2.0</td>\n",
       "      <td>6.0</td>\n",
       "      <td>24.0</td>\n",
       "      <td>31.0</td>\n",
       "      <td>0.0</td>\n",
       "      <td>31.0</td>\n",
       "      <td>16.0</td>\n",
       "      <td>1.0</td>\n",
       "      <td>17.0</td>\n",
       "      <td>older_perceptual</td>\n",
       "    </tr>\n",
       "    <tr>\n",
       "      <th>32</th>\n",
       "      <td>217</td>\n",
       "      <td>28</td>\n",
       "      <td>18</td>\n",
       "      <td>30</td>\n",
       "      <td>2</td>\n",
       "      <td>12</td>\n",
       "      <td>0</td>\n",
       "      <td>0.933333</td>\n",
       "      <td>0.600000</td>\n",
       "      <td>1.000000</td>\n",
       "      <td>...</td>\n",
       "      <td>0.0</td>\n",
       "      <td>6.0</td>\n",
       "      <td>24.0</td>\n",
       "      <td>31.0</td>\n",
       "      <td>1.0</td>\n",
       "      <td>32.0</td>\n",
       "      <td>14.0</td>\n",
       "      <td>1.0</td>\n",
       "      <td>15.0</td>\n",
       "      <td>older_narrative</td>\n",
       "    </tr>\n",
       "    <tr>\n",
       "      <th>33</th>\n",
       "      <td>217</td>\n",
       "      <td>27</td>\n",
       "      <td>17</td>\n",
       "      <td>23</td>\n",
       "      <td>3</td>\n",
       "      <td>13</td>\n",
       "      <td>7</td>\n",
       "      <td>0.900000</td>\n",
       "      <td>0.566667</td>\n",
       "      <td>0.766667</td>\n",
       "      <td>...</td>\n",
       "      <td>0.0</td>\n",
       "      <td>6.0</td>\n",
       "      <td>24.0</td>\n",
       "      <td>31.0</td>\n",
       "      <td>1.0</td>\n",
       "      <td>32.0</td>\n",
       "      <td>14.0</td>\n",
       "      <td>1.0</td>\n",
       "      <td>15.0</td>\n",
       "      <td>older_perceptual</td>\n",
       "    </tr>\n",
       "    <tr>\n",
       "      <th>38</th>\n",
       "      <td>220</td>\n",
       "      <td>22</td>\n",
       "      <td>21</td>\n",
       "      <td>20</td>\n",
       "      <td>8</td>\n",
       "      <td>9</td>\n",
       "      <td>10</td>\n",
       "      <td>0.733333</td>\n",
       "      <td>0.700000</td>\n",
       "      <td>0.666667</td>\n",
       "      <td>...</td>\n",
       "      <td>2.0</td>\n",
       "      <td>6.0</td>\n",
       "      <td>22.0</td>\n",
       "      <td>30.0</td>\n",
       "      <td>1.0</td>\n",
       "      <td>31.0</td>\n",
       "      <td>5.0</td>\n",
       "      <td>1.0</td>\n",
       "      <td>6.0</td>\n",
       "      <td>older_narrative</td>\n",
       "    </tr>\n",
       "    <tr>\n",
       "      <th>39</th>\n",
       "      <td>220</td>\n",
       "      <td>29</td>\n",
       "      <td>4</td>\n",
       "      <td>24</td>\n",
       "      <td>1</td>\n",
       "      <td>26</td>\n",
       "      <td>6</td>\n",
       "      <td>0.966667</td>\n",
       "      <td>0.133333</td>\n",
       "      <td>0.800000</td>\n",
       "      <td>...</td>\n",
       "      <td>2.0</td>\n",
       "      <td>6.0</td>\n",
       "      <td>22.0</td>\n",
       "      <td>30.0</td>\n",
       "      <td>1.0</td>\n",
       "      <td>31.0</td>\n",
       "      <td>5.0</td>\n",
       "      <td>1.0</td>\n",
       "      <td>6.0</td>\n",
       "      <td>older_perceptual</td>\n",
       "    </tr>\n",
       "    <tr>\n",
       "      <th>40</th>\n",
       "      <td>221</td>\n",
       "      <td>25</td>\n",
       "      <td>22</td>\n",
       "      <td>30</td>\n",
       "      <td>5</td>\n",
       "      <td>8</td>\n",
       "      <td>0</td>\n",
       "      <td>0.833333</td>\n",
       "      <td>0.733333</td>\n",
       "      <td>1.000000</td>\n",
       "      <td>...</td>\n",
       "      <td>1.0</td>\n",
       "      <td>6.0</td>\n",
       "      <td>22.0</td>\n",
       "      <td>28.0</td>\n",
       "      <td>1.0</td>\n",
       "      <td>29.0</td>\n",
       "      <td>23.0</td>\n",
       "      <td>1.0</td>\n",
       "      <td>24.0</td>\n",
       "      <td>older_narrative</td>\n",
       "    </tr>\n",
       "    <tr>\n",
       "      <th>41</th>\n",
       "      <td>221</td>\n",
       "      <td>27</td>\n",
       "      <td>13</td>\n",
       "      <td>29</td>\n",
       "      <td>3</td>\n",
       "      <td>17</td>\n",
       "      <td>1</td>\n",
       "      <td>0.900000</td>\n",
       "      <td>0.433333</td>\n",
       "      <td>0.966667</td>\n",
       "      <td>...</td>\n",
       "      <td>1.0</td>\n",
       "      <td>6.0</td>\n",
       "      <td>22.0</td>\n",
       "      <td>28.0</td>\n",
       "      <td>1.0</td>\n",
       "      <td>29.0</td>\n",
       "      <td>23.0</td>\n",
       "      <td>1.0</td>\n",
       "      <td>24.0</td>\n",
       "      <td>older_perceptual</td>\n",
       "    </tr>\n",
       "  </tbody>\n",
       "</table>\n",
       "<p>16 rows × 42 columns</p>\n",
       "</div>"
      ],
      "text/plain": [
       "    subject  target_hit  lure_cr  foil_cr  target_miss  lure_fa  foil_fa  \\\n",
       "2       202          29       20       30            1       10        0   \n",
       "3       202          26       20       30            4       10        0   \n",
       "12      207          26       24       30            4        6        0   \n",
       "13      207          30       20       30            0       10        0   \n",
       "22      212          29       26       30            1        4        0   \n",
       "23      212          30       15       30            0       15        0   \n",
       "26      214          27       17       30            3       13        0   \n",
       "27      214          29       18       28            1       12        2   \n",
       "28      215          26       25       30            4        5        0   \n",
       "29      215          26       20       30            4       10        0   \n",
       "32      217          28       18       30            2       12        0   \n",
       "33      217          27       17       23            3       13        7   \n",
       "38      220          22       21       20            8        9       10   \n",
       "39      220          29        4       24            1       26        6   \n",
       "40      221          25       22       30            5        8        0   \n",
       "41      221          27       13       29            3       17        1   \n",
       "\n",
       "    target_hit_rate  lure_cr_rate  foil_cr_rate  ...  MoCA_delayed_recall  \\\n",
       "2          0.966667      0.666667      1.000000  ...                  3.0   \n",
       "3          0.866667      0.666667      1.000000  ...                  3.0   \n",
       "12         0.866667      0.800000      1.000000  ...                  3.0   \n",
       "13         0.983333      0.666667      1.000000  ...                  3.0   \n",
       "22         0.966667      0.866667      1.000000  ...                  1.0   \n",
       "23         0.983333      0.500000      1.000000  ...                  1.0   \n",
       "26         0.900000      0.566667      1.000000  ...                  3.0   \n",
       "27         0.966667      0.600000      0.933333  ...                  3.0   \n",
       "28         0.866667      0.833333      1.000000  ...                  2.0   \n",
       "29         0.866667      0.666667      1.000000  ...                  2.0   \n",
       "32         0.933333      0.600000      1.000000  ...                  0.0   \n",
       "33         0.900000      0.566667      0.766667  ...                  0.0   \n",
       "38         0.733333      0.700000      0.666667  ...                  2.0   \n",
       "39         0.966667      0.133333      0.800000  ...                  2.0   \n",
       "40         0.833333      0.733333      1.000000  ...                  1.0   \n",
       "41         0.900000      0.433333      0.966667  ...                  1.0   \n",
       "\n",
       "    MoCA_orientation  MoCA_total  MINT_uncued  MINT_semantic  MINT_total  \\\n",
       "2                6.0        24.0         26.0            0.0        26.0   \n",
       "3                6.0        24.0         26.0            0.0        26.0   \n",
       "12               6.0        19.0         31.0            0.0        31.0   \n",
       "13               6.0        19.0         31.0            0.0        31.0   \n",
       "22               6.0        18.0         30.0            0.0        30.0   \n",
       "23               6.0        18.0         30.0            0.0        30.0   \n",
       "26               6.0        23.0         32.0            0.0        32.0   \n",
       "27               6.0        23.0         32.0            0.0        32.0   \n",
       "28               6.0        24.0         31.0            0.0        31.0   \n",
       "29               6.0        24.0         31.0            0.0        31.0   \n",
       "32               6.0        24.0         31.0            1.0        32.0   \n",
       "33               6.0        24.0         31.0            1.0        32.0   \n",
       "38               6.0        22.0         30.0            1.0        31.0   \n",
       "39               6.0        22.0         30.0            1.0        31.0   \n",
       "40               6.0        22.0         28.0            1.0        29.0   \n",
       "41               6.0        22.0         28.0            1.0        29.0   \n",
       "\n",
       "    Craft21_delayed_verbatim  Craft21_delayed_paraphrase  \\\n",
       "2                       20.0                         1.0   \n",
       "3                       20.0                         1.0   \n",
       "12                      19.0                         1.0   \n",
       "13                      19.0                         1.0   \n",
       "22                      17.0                         1.0   \n",
       "23                      17.0                         1.0   \n",
       "26                      14.0                         2.0   \n",
       "27                      14.0                         2.0   \n",
       "28                      16.0                         1.0   \n",
       "29                      16.0                         1.0   \n",
       "32                      14.0                         1.0   \n",
       "33                      14.0                         1.0   \n",
       "38                       5.0                         1.0   \n",
       "39                       5.0                         1.0   \n",
       "40                      23.0                         1.0   \n",
       "41                      23.0                         1.0   \n",
       "\n",
       "    Craft21_delayed_total        group_type  \n",
       "2                    21.0   older_narrative  \n",
       "3                    21.0  older_perceptual  \n",
       "12                   20.0   older_narrative  \n",
       "13                   20.0  older_perceptual  \n",
       "22                   18.0   older_narrative  \n",
       "23                   18.0  older_perceptual  \n",
       "26                   16.0   older_narrative  \n",
       "27                   16.0  older_perceptual  \n",
       "28                   17.0   older_narrative  \n",
       "29                   17.0  older_perceptual  \n",
       "32                   15.0   older_narrative  \n",
       "33                   15.0  older_perceptual  \n",
       "38                    6.0   older_narrative  \n",
       "39                    6.0  older_perceptual  \n",
       "40                   24.0   older_narrative  \n",
       "41                   24.0  older_perceptual  \n",
       "\n",
       "[16 rows x 42 columns]"
      ]
     },
     "execution_count": 25,
     "metadata": {},
     "output_type": "execute_result"
    }
   ],
   "source": [
    "# Generate list of low MoCA scorers\n",
    "sub_all_group_all_desc_all[sub_all_group_all_desc_all['MoCA_total'] < 26]     "
   ]
  },
  {
   "cell_type": "markdown",
   "metadata": {},
   "source": [
    "### High MoCA Scorers"
   ]
  },
  {
   "cell_type": "code",
   "execution_count": 26,
   "metadata": {},
   "outputs": [],
   "source": [
    "# Remove low MoCA scorers\n",
    "lowMoCA = [202, 207, 214, 212, 215, 217, 220, 221]\n",
    "sub_highMoCA_group_all_desc_all = sub_all_group_all_desc_all[~sub_all_group_all_desc_all.subject.isin(lowMoCA)]\n",
    "#sub_highMoCA_group_all_desc_all"
   ]
  },
  {
   "cell_type": "markdown",
   "metadata": {},
   "source": [
    "### Perform two-way ANOVA on target recognition (d')\n",
    "Target recognition was assessed in terms of normalized d’ values (z[Target Hit Rate] – z[Foil False Alarm Rate]) derived from signal detection analysis.\n",
    "\n",
    "2 x 2 ANOVA: Domain Type (Perceptual v. Narrative) x Age (Younger v. Older Adults)"
   ]
  },
  {
   "cell_type": "code",
   "execution_count": 52,
   "metadata": {},
   "outputs": [
    {
     "data": {
      "text/html": [
       "<div>\n",
       "<style scoped>\n",
       "    .dataframe tbody tr th:only-of-type {\n",
       "        vertical-align: middle;\n",
       "    }\n",
       "\n",
       "    .dataframe tbody tr th {\n",
       "        vertical-align: top;\n",
       "    }\n",
       "\n",
       "    .dataframe thead th {\n",
       "        text-align: right;\n",
       "    }\n",
       "</style>\n",
       "<table border=\"1\" class=\"dataframe\">\n",
       "  <thead>\n",
       "    <tr style=\"text-align: right;\">\n",
       "      <th></th>\n",
       "      <th>sum_sq</th>\n",
       "      <th>df</th>\n",
       "      <th>F</th>\n",
       "      <th>PR(&gt;F)</th>\n",
       "    </tr>\n",
       "  </thead>\n",
       "  <tbody>\n",
       "    <tr>\n",
       "      <th>group</th>\n",
       "      <td>0.604518</td>\n",
       "      <td>1.0</td>\n",
       "      <td>3.053054</td>\n",
       "      <td>8.538224e-02</td>\n",
       "    </tr>\n",
       "    <tr>\n",
       "      <th>type</th>\n",
       "      <td>7.464857</td>\n",
       "      <td>1.0</td>\n",
       "      <td>37.700449</td>\n",
       "      <td>5.828014e-08</td>\n",
       "    </tr>\n",
       "    <tr>\n",
       "      <th>group:type</th>\n",
       "      <td>0.046262</td>\n",
       "      <td>1.0</td>\n",
       "      <td>0.233642</td>\n",
       "      <td>6.304858e-01</td>\n",
       "    </tr>\n",
       "    <tr>\n",
       "      <th>Residual</th>\n",
       "      <td>12.672285</td>\n",
       "      <td>64.0</td>\n",
       "      <td>NaN</td>\n",
       "      <td>NaN</td>\n",
       "    </tr>\n",
       "  </tbody>\n",
       "</table>\n",
       "</div>"
      ],
      "text/plain": [
       "               sum_sq    df          F        PR(>F)\n",
       "group        0.604518   1.0   3.053054  8.538224e-02\n",
       "type         7.464857   1.0  37.700449  5.828014e-08\n",
       "group:type   0.046262   1.0   0.233642  6.304858e-01\n",
       "Residual    12.672285  64.0        NaN           NaN"
      ]
     },
     "execution_count": 52,
     "metadata": {},
     "output_type": "execute_result"
    }
   ],
   "source": [
    "#perform two-way ANOVA\n",
    "model = ols('dprime ~ (group) + (type) + (group):(type)', data=sub_highMoCA_group_all_desc_all).fit()\n",
    "sm.stats.anova_lm(model, typ=2)"
   ]
  },
  {
   "cell_type": "markdown",
   "metadata": {},
   "source": [
    "### Perform Tukey's Post-hoc test"
   ]
  },
  {
   "cell_type": "code",
   "execution_count": 53,
   "metadata": {},
   "outputs": [
    {
     "name": "stdout",
     "output_type": "stream",
     "text": [
      "           Multiple Comparison of Means - Tukey HSD, FWER=0.05            \n",
      "==========================================================================\n",
      "      group1            group2       meandiff p-adj   lower  upper  reject\n",
      "--------------------------------------------------------------------------\n",
      "  older_narrative   older_perceptual    0.729  0.001  0.2685 1.1894   True\n",
      "  older_narrative  younger_narrative   0.2477 0.3999 -0.1665 0.6619  False\n",
      "  older_narrative younger_perceptual   0.8693  0.001  0.4551 1.2835   True\n",
      " older_perceptual  younger_narrative  -0.4813 0.0164 -0.8955 -0.067   True\n",
      " older_perceptual younger_perceptual   0.1403 0.7843 -0.2739 0.5546  False\n",
      "younger_narrative younger_perceptual   0.6216  0.001  0.2594 0.9839   True\n",
      "--------------------------------------------------------------------------\n"
     ]
    }
   ],
   "source": [
    "post_hoc = statsmodels.stats.multicomp.pairwise_tukeyhsd(sub_highMoCA_group_all_desc_all['dprime'], sub_highMoCA_group_all_desc_all['group_type'], alpha=0.05)\n",
    "print(post_hoc)"
   ]
  },
  {
   "cell_type": "markdown",
   "metadata": {},
   "source": [
    "-----"
   ]
  },
  {
   "cell_type": "markdown",
   "metadata": {},
   "source": [
    "### Perform two-way ANOVA on lures (LDI)\n",
    "\n",
    "Response bias was corrected by calculating a lure discrimination index (LDI) for each subject (p[New|Lure] – p[New|Target])\n",
    "\n",
    "2 x 2 ANOVA: Domain Type (Perceptual v. Narrative) x Age (Younger v. Older Adults)"
   ]
  },
  {
   "cell_type": "code",
   "execution_count": 54,
   "metadata": {},
   "outputs": [
    {
     "data": {
      "text/html": [
       "<div>\n",
       "<style scoped>\n",
       "    .dataframe tbody tr th:only-of-type {\n",
       "        vertical-align: middle;\n",
       "    }\n",
       "\n",
       "    .dataframe tbody tr th {\n",
       "        vertical-align: top;\n",
       "    }\n",
       "\n",
       "    .dataframe thead th {\n",
       "        text-align: right;\n",
       "    }\n",
       "</style>\n",
       "<table border=\"1\" class=\"dataframe\">\n",
       "  <thead>\n",
       "    <tr style=\"text-align: right;\">\n",
       "      <th></th>\n",
       "      <th>sum_sq</th>\n",
       "      <th>df</th>\n",
       "      <th>F</th>\n",
       "      <th>PR(&gt;F)</th>\n",
       "    </tr>\n",
       "  </thead>\n",
       "  <tbody>\n",
       "    <tr>\n",
       "      <th>group</th>\n",
       "      <td>0.062149</td>\n",
       "      <td>1.0</td>\n",
       "      <td>3.412294</td>\n",
       "      <td>0.069336</td>\n",
       "    </tr>\n",
       "    <tr>\n",
       "      <th>type</th>\n",
       "      <td>0.000147</td>\n",
       "      <td>1.0</td>\n",
       "      <td>0.008074</td>\n",
       "      <td>0.928682</td>\n",
       "    </tr>\n",
       "    <tr>\n",
       "      <th>group:type</th>\n",
       "      <td>0.037071</td>\n",
       "      <td>1.0</td>\n",
       "      <td>2.035389</td>\n",
       "      <td>0.158535</td>\n",
       "    </tr>\n",
       "    <tr>\n",
       "      <th>Residual</th>\n",
       "      <td>1.165649</td>\n",
       "      <td>64.0</td>\n",
       "      <td>NaN</td>\n",
       "      <td>NaN</td>\n",
       "    </tr>\n",
       "  </tbody>\n",
       "</table>\n",
       "</div>"
      ],
      "text/plain": [
       "              sum_sq    df         F    PR(>F)\n",
       "group       0.062149   1.0  3.412294  0.069336\n",
       "type        0.000147   1.0  0.008074  0.928682\n",
       "group:type  0.037071   1.0  2.035389  0.158535\n",
       "Residual    1.165649  64.0       NaN       NaN"
      ]
     },
     "execution_count": 54,
     "metadata": {},
     "output_type": "execute_result"
    }
   ],
   "source": [
    "model = ols('LDI ~ (group) + (type) + (group):(type)', data=sub_highMoCA_group_all_desc_all).fit()\n",
    "sm.stats.anova_lm(model, typ=2)"
   ]
  },
  {
   "cell_type": "markdown",
   "metadata": {},
   "source": [
    "### Perform Tukey's Post-hoc test"
   ]
  },
  {
   "cell_type": "code",
   "execution_count": 56,
   "metadata": {},
   "outputs": [
    {
     "name": "stdout",
     "output_type": "stream",
     "text": [
      "           Multiple Comparison of Means - Tukey HSD, FWER=0.05            \n",
      "==========================================================================\n",
      "      group1            group2       meandiff p-adj   lower  upper  reject\n",
      "--------------------------------------------------------------------------\n",
      "  older_narrative   older_perceptual  -0.0564  0.689  -0.196 0.0832  False\n",
      "  older_narrative  younger_narrative   0.0142    0.9 -0.1115 0.1398  False\n",
      "  older_narrative younger_perceptual   0.0538  0.653 -0.0718 0.1795  False\n",
      " older_perceptual  younger_narrative   0.0706 0.4556 -0.0551 0.1962  False\n",
      " older_perceptual younger_perceptual   0.1103 0.1054 -0.0154 0.2359  False\n",
      "younger_narrative younger_perceptual   0.0397 0.7516 -0.0702 0.1495  False\n",
      "--------------------------------------------------------------------------\n"
     ]
    }
   ],
   "source": [
    "post_hoc = statsmodels.stats.multicomp.pairwise_tukeyhsd(sub_highMoCA_group_all_desc_all['LDI'], sub_highMoCA_group_all_desc_all['group_type'], alpha=0.05)\n",
    "print(post_hoc)"
   ]
  },
  {
   "cell_type": "markdown",
   "metadata": {},
   "source": [
    "### Low MoCA Scorers"
   ]
  },
  {
   "cell_type": "code",
   "execution_count": 79,
   "metadata": {},
   "outputs": [],
   "source": [
    "sub_lowMoCA_group_all_desc_all = sub_all_group_all_desc_all[sub_all_group_all_desc_all.subject.isin(lowMoCA)]\n",
    "\n",
    "# Grab all younger adults' data \n",
    "sub_all_group_younger_desc_all = sub_all_group_all_desc_all[sub_all_group_all_desc_all.subject > 300]\n",
    "#sub_all_group_younger_desc_all\n",
    "\n",
    "# Create dataframe of low MoCA scorers and younger adults\n",
    "sub_lowMoCA_group_all_desc_all = pd.concat([sub_lowMoCA_group_all_desc_all, sub_all_group_younger_desc_all])\n",
    "#sub_lowMoCA_group_all_desc_all"
   ]
  },
  {
   "cell_type": "code",
   "execution_count": null,
   "metadata": {},
   "outputs": [],
   "source": [
    "sub_L"
   ]
  },
  {
   "cell_type": "markdown",
   "metadata": {},
   "source": [
    "### Perform two-way ANOVA on target recognition (d')\n",
    "Target recognition was assessed in terms of normalized d’ values (z[Target Hit Rate] – z[Foil False Alarm Rate]) derived from signal detection analysis.\n",
    "\n",
    "2 x 2 ANOVA: Domain Type (Perceptual v. Narrative) x Age (Younger v. Older Adults)"
   ]
  },
  {
   "cell_type": "code",
   "execution_count": 74,
   "metadata": {},
   "outputs": [
    {
     "data": {
      "text/html": [
       "<div>\n",
       "<style scoped>\n",
       "    .dataframe tbody tr th:only-of-type {\n",
       "        vertical-align: middle;\n",
       "    }\n",
       "\n",
       "    .dataframe tbody tr th {\n",
       "        vertical-align: top;\n",
       "    }\n",
       "\n",
       "    .dataframe thead th {\n",
       "        text-align: right;\n",
       "    }\n",
       "</style>\n",
       "<table border=\"1\" class=\"dataframe\">\n",
       "  <thead>\n",
       "    <tr style=\"text-align: right;\">\n",
       "      <th></th>\n",
       "      <th>sum_sq</th>\n",
       "      <th>df</th>\n",
       "      <th>F</th>\n",
       "      <th>PR(&gt;F)</th>\n",
       "    </tr>\n",
       "  </thead>\n",
       "  <tbody>\n",
       "    <tr>\n",
       "      <th>group</th>\n",
       "      <td>0.581055</td>\n",
       "      <td>1.0</td>\n",
       "      <td>2.204351</td>\n",
       "      <td>0.143436</td>\n",
       "    </tr>\n",
       "    <tr>\n",
       "      <th>type</th>\n",
       "      <td>3.184124</td>\n",
       "      <td>1.0</td>\n",
       "      <td>12.079616</td>\n",
       "      <td>0.001014</td>\n",
       "    </tr>\n",
       "    <tr>\n",
       "      <th>group:type</th>\n",
       "      <td>0.891002</td>\n",
       "      <td>1.0</td>\n",
       "      <td>3.380195</td>\n",
       "      <td>0.071486</td>\n",
       "    </tr>\n",
       "    <tr>\n",
       "      <th>Residual</th>\n",
       "      <td>14.234117</td>\n",
       "      <td>54.0</td>\n",
       "      <td>NaN</td>\n",
       "      <td>NaN</td>\n",
       "    </tr>\n",
       "  </tbody>\n",
       "</table>\n",
       "</div>"
      ],
      "text/plain": [
       "               sum_sq    df          F    PR(>F)\n",
       "group        0.581055   1.0   2.204351  0.143436\n",
       "type         3.184124   1.0  12.079616  0.001014\n",
       "group:type   0.891002   1.0   3.380195  0.071486\n",
       "Residual    14.234117  54.0        NaN       NaN"
      ]
     },
     "execution_count": 74,
     "metadata": {},
     "output_type": "execute_result"
    }
   ],
   "source": [
    "#perform two-way ANOVA\n",
    "model = ols('dprime ~ (group) + (type) + (group):(type)', data=sub_lowMoCA_group_all_desc_all).fit()\n",
    "sm.stats.anova_lm(model, typ=2)"
   ]
  },
  {
   "cell_type": "markdown",
   "metadata": {},
   "source": [
    "### Perform Tukey's Post-hoc test"
   ]
  },
  {
   "cell_type": "code",
   "execution_count": 75,
   "metadata": {},
   "outputs": [
    {
     "name": "stdout",
     "output_type": "stream",
     "text": [
      "           Multiple Comparison of Means - Tukey HSD, FWER=0.05            \n",
      "==========================================================================\n",
      "      group1            group2       meandiff p-adj   lower  upper  reject\n",
      "--------------------------------------------------------------------------\n",
      "  older_narrative   older_perceptual    0.067    0.9 -0.6135 0.7475  False\n",
      "  older_narrative  younger_narrative  -0.0534    0.9 -0.6189 0.5121  False\n",
      "  older_narrative younger_perceptual   0.5682 0.0485  0.0028 1.1337   True\n",
      " older_perceptual  younger_narrative  -0.1204    0.9 -0.6858 0.4451  False\n",
      " older_perceptual younger_perceptual   0.5013 0.0995 -0.0642 1.0667  False\n",
      "younger_narrative younger_perceptual   0.6216 0.0014  0.2016 1.0416   True\n",
      "--------------------------------------------------------------------------\n"
     ]
    }
   ],
   "source": [
    "post_hoc = statsmodels.stats.multicomp.pairwise_tukeyhsd(sub_lowMoCA_group_all_desc_all['dprime'], sub_lowMoCA_group_all_desc_all['group_type'], alpha=0.05)\n",
    "print(post_hoc)"
   ]
  },
  {
   "cell_type": "markdown",
   "metadata": {},
   "source": [
    "-----"
   ]
  },
  {
   "cell_type": "markdown",
   "metadata": {},
   "source": [
    "### Perform two-way ANOVA on lures (LDI)\n",
    "\n",
    "Response bias was corrected by calculating a lure discrimination index (LDI) for each subject (p[New|Lure] – p[New|Target])\n",
    "\n",
    "2 x 2 ANOVA: Domain Type (Perceptual v. Narrative) x Age (Younger v. Older Adults)"
   ]
  },
  {
   "cell_type": "code",
   "execution_count": 76,
   "metadata": {},
   "outputs": [
    {
     "data": {
      "text/html": [
       "<div>\n",
       "<style scoped>\n",
       "    .dataframe tbody tr th:only-of-type {\n",
       "        vertical-align: middle;\n",
       "    }\n",
       "\n",
       "    .dataframe tbody tr th {\n",
       "        vertical-align: top;\n",
       "    }\n",
       "\n",
       "    .dataframe thead th {\n",
       "        text-align: right;\n",
       "    }\n",
       "</style>\n",
       "<table border=\"1\" class=\"dataframe\">\n",
       "  <thead>\n",
       "    <tr style=\"text-align: right;\">\n",
       "      <th></th>\n",
       "      <th>sum_sq</th>\n",
       "      <th>df</th>\n",
       "      <th>F</th>\n",
       "      <th>PR(&gt;F)</th>\n",
       "    </tr>\n",
       "  </thead>\n",
       "  <tbody>\n",
       "    <tr>\n",
       "      <th>group</th>\n",
       "      <td>0.249772</td>\n",
       "      <td>1.0</td>\n",
       "      <td>17.516775</td>\n",
       "      <td>0.000106</td>\n",
       "    </tr>\n",
       "    <tr>\n",
       "      <th>type</th>\n",
       "      <td>0.001552</td>\n",
       "      <td>1.0</td>\n",
       "      <td>0.108824</td>\n",
       "      <td>0.742763</td>\n",
       "    </tr>\n",
       "    <tr>\n",
       "      <th>group:type</th>\n",
       "      <td>0.095260</td>\n",
       "      <td>1.0</td>\n",
       "      <td>6.680717</td>\n",
       "      <td>0.012481</td>\n",
       "    </tr>\n",
       "    <tr>\n",
       "      <th>Residual</th>\n",
       "      <td>0.769987</td>\n",
       "      <td>54.0</td>\n",
       "      <td>NaN</td>\n",
       "      <td>NaN</td>\n",
       "    </tr>\n",
       "  </tbody>\n",
       "</table>\n",
       "</div>"
      ],
      "text/plain": [
       "              sum_sq    df          F    PR(>F)\n",
       "group       0.249772   1.0  17.516775  0.000106\n",
       "type        0.001552   1.0   0.108824  0.742763\n",
       "group:type  0.095260   1.0   6.680717  0.012481\n",
       "Residual    0.769987  54.0        NaN       NaN"
      ]
     },
     "execution_count": 76,
     "metadata": {},
     "output_type": "execute_result"
    }
   ],
   "source": [
    "model = ols('LDI ~ (group) + (type) + (group):(type)', data=sub_lowMoCA_group_all_desc_all).fit()\n",
    "sm.stats.anova_lm(model, typ=2)"
   ]
  },
  {
   "cell_type": "markdown",
   "metadata": {},
   "source": [
    "### Perform Tukey's Post-hoc test"
   ]
  },
  {
   "cell_type": "code",
   "execution_count": 77,
   "metadata": {},
   "outputs": [
    {
     "name": "stdout",
     "output_type": "stream",
     "text": [
      "           Multiple Comparison of Means - Tukey HSD, FWER=0.05            \n",
      "==========================================================================\n",
      "      group1            group2       meandiff p-adj   lower  upper  reject\n",
      "--------------------------------------------------------------------------\n",
      "  older_narrative   older_perceptual  -0.1417 0.0947 -0.2999 0.0166  False\n",
      "  older_narrative  younger_narrative   0.0562 0.6529 -0.0754 0.1877  False\n",
      "  older_narrative younger_perceptual   0.0958 0.2273 -0.0357 0.2274  False\n",
      " older_perceptual  younger_narrative   0.1978 0.0011  0.0663 0.3293   True\n",
      " older_perceptual younger_perceptual   0.2375  0.001   0.106  0.369   True\n",
      "younger_narrative younger_perceptual   0.0397 0.6834  -0.058 0.1374  False\n",
      "--------------------------------------------------------------------------\n"
     ]
    }
   ],
   "source": [
    "post_hoc = statsmodels.stats.multicomp.pairwise_tukeyhsd(sub_lowMoCA_group_all_desc_all['LDI'], sub_lowMoCA_group_all_desc_all['group_type'], alpha=0.05)\n",
    "print(post_hoc)"
   ]
  },
  {
   "cell_type": "code",
   "execution_count": null,
   "metadata": {},
   "outputs": [],
   "source": []
  }
 ],
 "metadata": {
  "kernelspec": {
   "display_name": "Python 3",
   "language": "python",
   "name": "python3"
  },
  "language_info": {
   "codemirror_mode": {
    "name": "ipython",
    "version": 3
   },
   "file_extension": ".py",
   "mimetype": "text/x-python",
   "name": "python",
   "nbconvert_exporter": "python",
   "pygments_lexer": "ipython3",
   "version": "3.8.5"
  }
 },
 "nbformat": 4,
 "nbformat_minor": 4
}
